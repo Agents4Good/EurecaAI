{
 "cells": [
  {
   "cell_type": "code",
   "execution_count": 1,
   "id": "3bd818db-0d5f-4c22-9fe1-45707038e077",
   "metadata": {},
   "outputs": [
    {
     "name": "stdout",
     "output_type": "stream",
     "text": [
      "Defaulting to user installation because normal site-packages is not writeable\n",
      "Requirement already satisfied: guardrails-ai in /home/levi/.local/lib/python3.10/site-packages (0.6.2)\n",
      "Requirement already satisfied: boto3<2,>1 in /home/levi/.local/lib/python3.10/site-packages (from guardrails-ai) (1.35.99)\n",
      "Requirement already satisfied: coloredlogs<16.0.0,>=15.0.1 in /home/levi/.local/lib/python3.10/site-packages (from guardrails-ai) (15.0.1)\n",
      "Requirement already satisfied: diff-match-patch<20230431,>=20230430 in /home/levi/.local/lib/python3.10/site-packages (from guardrails-ai) (20230430)\n",
      "Requirement already satisfied: faker<26.0.0,>=25.2.0 in /home/levi/.local/lib/python3.10/site-packages (from guardrails-ai) (25.9.2)\n",
      "Requirement already satisfied: griffe<0.37.0,>=0.36.9 in /home/levi/.local/lib/python3.10/site-packages (from guardrails-ai) (0.36.9)\n",
      "Requirement already satisfied: guardrails-api-client<0.5.0,>=0.4.0a1 in /home/levi/.local/lib/python3.10/site-packages (from guardrails-ai) (0.4.0a1)\n",
      "Requirement already satisfied: guardrails-hub-types<0.0.5,>=0.0.4 in /home/levi/.local/lib/python3.10/site-packages (from guardrails-ai) (0.0.4)\n",
      "Requirement already satisfied: jsonref<2.0.0,>=1.1.0 in /home/levi/.local/lib/python3.10/site-packages (from guardrails-ai) (1.1.0)\n",
      "Requirement already satisfied: jsonschema<5.0.0,>=4.22.0 in /home/levi/.local/lib/python3.10/site-packages (from jsonschema[format]<5.0.0,>=4.22.0->guardrails-ai) (4.23.0)\n",
      "Requirement already satisfied: langchain-core<0.4,>=0.1 in /home/levi/.local/lib/python3.10/site-packages (from guardrails-ai) (0.3.24)\n",
      "Requirement already satisfied: litellm<2.0.0,>=1.37.14 in /home/levi/.local/lib/python3.10/site-packages (from guardrails-ai) (1.58.2)\n",
      "Requirement already satisfied: lxml<5.0.0,>=4.9.3 in /home/levi/.local/lib/python3.10/site-packages (from guardrails-ai) (4.9.4)\n",
      "Requirement already satisfied: openai<2.0.0,>=1.30.1 in /home/levi/.local/lib/python3.10/site-packages (from guardrails-ai) (1.59.7)\n",
      "Requirement already satisfied: opentelemetry-exporter-otlp-proto-grpc<2.0.0,>=1.24.0 in /home/levi/.local/lib/python3.10/site-packages (from guardrails-ai) (1.29.0)\n",
      "Requirement already satisfied: opentelemetry-exporter-otlp-proto-http<2.0.0,>=1.24.0 in /home/levi/.local/lib/python3.10/site-packages (from guardrails-ai) (1.29.0)\n",
      "Requirement already satisfied: opentelemetry-sdk<2.0.0,>=1.24.0 in /home/levi/.local/lib/python3.10/site-packages (from guardrails-ai) (1.29.0)\n",
      "Requirement already satisfied: pip>=22 in /home/levi/.local/lib/python3.10/site-packages (from guardrails-ai) (24.3.1)\n",
      "Requirement already satisfied: pydantic<3.0,>=2.0.0 in /home/levi/.local/lib/python3.10/site-packages (from guardrails-ai) (2.9.2)\n",
      "Requirement already satisfied: pydash<8.0.0,>=7.0.6 in /home/levi/.local/lib/python3.10/site-packages (from guardrails-ai) (7.0.7)\n",
      "Requirement already satisfied: pyjwt<3.0.0,>=2.8.0 in /home/levi/.local/lib/python3.10/site-packages (from guardrails-ai) (2.10.1)\n",
      "Requirement already satisfied: python-dateutil<3.0.0,>=2.8.2 in /home/levi/.local/lib/python3.10/site-packages (from guardrails-ai) (2.9.0.post0)\n",
      "Requirement already satisfied: requests<3.0.0,>=2.31.0 in /home/levi/.local/lib/python3.10/site-packages (from guardrails-ai) (2.32.3)\n",
      "Requirement already satisfied: rich<14.0.0,>=13.6.0 in /home/levi/.local/lib/python3.10/site-packages (from guardrails-ai) (13.8.0)\n",
      "Requirement already satisfied: rstr<4.0.0,>=3.2.2 in /home/levi/.local/lib/python3.10/site-packages (from guardrails-ai) (3.2.2)\n",
      "Requirement already satisfied: semver<4.0.0,>=3.0.2 in /home/levi/.local/lib/python3.10/site-packages (from guardrails-ai) (3.0.2)\n",
      "Requirement already satisfied: tenacity>=8.1.0 in /home/levi/.local/lib/python3.10/site-packages (from guardrails-ai) (8.5.0)\n",
      "Requirement already satisfied: tiktoken>=0.5.1 in /home/levi/.local/lib/python3.10/site-packages (from guardrails-ai) (0.7.0)\n",
      "Requirement already satisfied: typer<0.13,>=0.9.0 in /home/levi/.local/lib/python3.10/site-packages (from typer[all]<0.13,>=0.9.0->guardrails-ai) (0.12.5)\n",
      "Requirement already satisfied: typing-extensions<5.0.0,>=4.8.0 in /home/levi/.local/lib/python3.10/site-packages (from guardrails-ai) (4.12.2)\n",
      "Requirement already satisfied: botocore<1.36.0,>=1.35.99 in /home/levi/.local/lib/python3.10/site-packages (from boto3<2,>1->guardrails-ai) (1.35.99)\n",
      "Requirement already satisfied: jmespath<2.0.0,>=0.7.1 in /home/levi/.local/lib/python3.10/site-packages (from boto3<2,>1->guardrails-ai) (1.0.1)\n",
      "Requirement already satisfied: s3transfer<0.11.0,>=0.10.0 in /home/levi/.local/lib/python3.10/site-packages (from boto3<2,>1->guardrails-ai) (0.10.4)\n",
      "Requirement already satisfied: humanfriendly>=9.1 in /home/levi/.local/lib/python3.10/site-packages (from coloredlogs<16.0.0,>=15.0.1->guardrails-ai) (10.0)\n",
      "Requirement already satisfied: colorama>=0.4 in /home/levi/.local/lib/python3.10/site-packages (from griffe<0.37.0,>=0.36.9->guardrails-ai) (0.4.6)\n",
      "Requirement already satisfied: setuptools>=21.0.0 in /home/levi/.local/lib/python3.10/site-packages (from guardrails-api-client<0.5.0,>=0.4.0a1->guardrails-ai) (75.8.0)\n",
      "Requirement already satisfied: urllib3<2.1.0,>=1.25.3 in /home/levi/.local/lib/python3.10/site-packages (from guardrails-api-client<0.5.0,>=0.4.0a1->guardrails-ai) (2.0.7)\n",
      "Requirement already satisfied: attrs>=22.2.0 in /home/levi/.local/lib/python3.10/site-packages (from jsonschema<5.0.0,>=4.22.0->jsonschema[format]<5.0.0,>=4.22.0->guardrails-ai) (23.2.0)\n",
      "Requirement already satisfied: jsonschema-specifications>=2023.03.6 in /home/levi/.local/lib/python3.10/site-packages (from jsonschema<5.0.0,>=4.22.0->jsonschema[format]<5.0.0,>=4.22.0->guardrails-ai) (2023.12.1)\n",
      "Requirement already satisfied: referencing>=0.28.4 in /home/levi/.local/lib/python3.10/site-packages (from jsonschema<5.0.0,>=4.22.0->jsonschema[format]<5.0.0,>=4.22.0->guardrails-ai) (0.35.1)\n",
      "Requirement already satisfied: rpds-py>=0.7.1 in /home/levi/.local/lib/python3.10/site-packages (from jsonschema<5.0.0,>=4.22.0->jsonschema[format]<5.0.0,>=4.22.0->guardrails-ai) (0.19.1)\n",
      "Requirement already satisfied: fqdn in /home/levi/.local/lib/python3.10/site-packages (from jsonschema[format]<5.0.0,>=4.22.0->guardrails-ai) (1.5.1)\n",
      "Requirement already satisfied: idna in /home/levi/.local/lib/python3.10/site-packages (from jsonschema[format]<5.0.0,>=4.22.0->guardrails-ai) (3.10)\n",
      "Requirement already satisfied: isoduration in /home/levi/.local/lib/python3.10/site-packages (from jsonschema[format]<5.0.0,>=4.22.0->guardrails-ai) (20.11.0)\n",
      "Requirement already satisfied: jsonpointer>1.13 in /home/levi/.local/lib/python3.10/site-packages (from jsonschema[format]<5.0.0,>=4.22.0->guardrails-ai) (3.0.0)\n",
      "Requirement already satisfied: rfc3339-validator in /home/levi/.local/lib/python3.10/site-packages (from jsonschema[format]<5.0.0,>=4.22.0->guardrails-ai) (0.1.4)\n",
      "Requirement already satisfied: rfc3987 in /home/levi/.local/lib/python3.10/site-packages (from jsonschema[format]<5.0.0,>=4.22.0->guardrails-ai) (1.3.8)\n",
      "Requirement already satisfied: uri-template in /home/levi/.local/lib/python3.10/site-packages (from jsonschema[format]<5.0.0,>=4.22.0->guardrails-ai) (1.3.0)\n",
      "Requirement already satisfied: webcolors>=1.11 in /home/levi/.local/lib/python3.10/site-packages (from jsonschema[format]<5.0.0,>=4.22.0->guardrails-ai) (24.6.0)\n",
      "Requirement already satisfied: PyYAML>=5.3 in /home/levi/.local/lib/python3.10/site-packages (from langchain-core<0.4,>=0.1->guardrails-ai) (6.0.2)\n",
      "Requirement already satisfied: jsonpatch<2.0,>=1.33 in /home/levi/.local/lib/python3.10/site-packages (from langchain-core<0.4,>=0.1->guardrails-ai) (1.33)\n",
      "Requirement already satisfied: langsmith<0.3,>=0.1.125 in /home/levi/.local/lib/python3.10/site-packages (from langchain-core<0.4,>=0.1->guardrails-ai) (0.1.125)\n",
      "Requirement already satisfied: packaging<25,>=23.2 in /home/levi/.local/lib/python3.10/site-packages (from langchain-core<0.4,>=0.1->guardrails-ai) (24.1)\n",
      "Requirement already satisfied: aiohttp in /home/levi/.local/lib/python3.10/site-packages (from litellm<2.0.0,>=1.37.14->guardrails-ai) (3.10.5)\n",
      "Requirement already satisfied: click in /home/levi/.local/lib/python3.10/site-packages (from litellm<2.0.0,>=1.37.14->guardrails-ai) (8.1.7)\n",
      "Requirement already satisfied: httpx<0.28.0,>=0.23.0 in /home/levi/.local/lib/python3.10/site-packages (from litellm<2.0.0,>=1.37.14->guardrails-ai) (0.27.0)\n",
      "Requirement already satisfied: importlib-metadata>=6.8.0 in /home/levi/.local/lib/python3.10/site-packages (from litellm<2.0.0,>=1.37.14->guardrails-ai) (6.11.0)\n",
      "Requirement already satisfied: jinja2<4.0.0,>=3.1.2 in /home/levi/.local/lib/python3.10/site-packages (from litellm<2.0.0,>=1.37.14->guardrails-ai) (3.1.4)\n",
      "Requirement already satisfied: python-dotenv>=0.2.0 in /home/levi/.local/lib/python3.10/site-packages (from litellm<2.0.0,>=1.37.14->guardrails-ai) (1.0.1)\n",
      "Requirement already satisfied: tokenizers in /home/levi/.local/lib/python3.10/site-packages (from litellm<2.0.0,>=1.37.14->guardrails-ai) (0.19.1)\n",
      "Requirement already satisfied: anyio<5,>=3.5.0 in /home/levi/.local/lib/python3.10/site-packages (from openai<2.0.0,>=1.30.1->guardrails-ai) (4.4.0)\n",
      "Requirement already satisfied: distro<2,>=1.7.0 in /home/levi/.local/lib/python3.10/site-packages (from openai<2.0.0,>=1.30.1->guardrails-ai) (1.9.0)\n",
      "Requirement already satisfied: jiter<1,>=0.4.0 in /home/levi/.local/lib/python3.10/site-packages (from openai<2.0.0,>=1.30.1->guardrails-ai) (0.5.0)\n",
      "Requirement already satisfied: sniffio in /home/levi/.local/lib/python3.10/site-packages (from openai<2.0.0,>=1.30.1->guardrails-ai) (1.3.1)\n",
      "Requirement already satisfied: tqdm>4 in /home/levi/.local/lib/python3.10/site-packages (from openai<2.0.0,>=1.30.1->guardrails-ai) (4.66.5)\n",
      "Requirement already satisfied: deprecated>=1.2.6 in /home/levi/.local/lib/python3.10/site-packages (from opentelemetry-exporter-otlp-proto-grpc<2.0.0,>=1.24.0->guardrails-ai) (1.2.14)\n",
      "Requirement already satisfied: googleapis-common-protos~=1.52 in /home/levi/.local/lib/python3.10/site-packages (from opentelemetry-exporter-otlp-proto-grpc<2.0.0,>=1.24.0->guardrails-ai) (1.65.0)\n",
      "Requirement already satisfied: grpcio<2.0.0,>=1.63.2 in /home/levi/.local/lib/python3.10/site-packages (from opentelemetry-exporter-otlp-proto-grpc<2.0.0,>=1.24.0->guardrails-ai) (1.69.0)\n",
      "Requirement already satisfied: opentelemetry-api~=1.15 in /home/levi/.local/lib/python3.10/site-packages (from opentelemetry-exporter-otlp-proto-grpc<2.0.0,>=1.24.0->guardrails-ai) (1.29.0)\n",
      "Requirement already satisfied: opentelemetry-exporter-otlp-proto-common==1.29.0 in /home/levi/.local/lib/python3.10/site-packages (from opentelemetry-exporter-otlp-proto-grpc<2.0.0,>=1.24.0->guardrails-ai) (1.29.0)\n",
      "Requirement already satisfied: opentelemetry-proto==1.29.0 in /home/levi/.local/lib/python3.10/site-packages (from opentelemetry-exporter-otlp-proto-grpc<2.0.0,>=1.24.0->guardrails-ai) (1.29.0)\n",
      "Requirement already satisfied: protobuf<6.0,>=5.0 in /home/levi/.local/lib/python3.10/site-packages (from opentelemetry-proto==1.29.0->opentelemetry-exporter-otlp-proto-grpc<2.0.0,>=1.24.0->guardrails-ai) (5.29.3)\n",
      "Requirement already satisfied: opentelemetry-semantic-conventions==0.50b0 in /home/levi/.local/lib/python3.10/site-packages (from opentelemetry-sdk<2.0.0,>=1.24.0->guardrails-ai) (0.50b0)\n",
      "Requirement already satisfied: annotated-types>=0.6.0 in /home/levi/.local/lib/python3.10/site-packages (from pydantic<3.0,>=2.0.0->guardrails-ai) (0.7.0)\n",
      "Requirement already satisfied: pydantic-core==2.23.4 in /home/levi/.local/lib/python3.10/site-packages (from pydantic<3.0,>=2.0.0->guardrails-ai) (2.23.4)\n",
      "Requirement already satisfied: six>=1.5 in /home/levi/.local/lib/python3.10/site-packages (from python-dateutil<3.0.0,>=2.8.2->guardrails-ai) (1.17.0)\n",
      "Requirement already satisfied: charset-normalizer<4,>=2 in /home/levi/.local/lib/python3.10/site-packages (from requests<3.0.0,>=2.31.0->guardrails-ai) (3.3.2)\n",
      "Requirement already satisfied: certifi>=2017.4.17 in /home/levi/.local/lib/python3.10/site-packages (from requests<3.0.0,>=2.31.0->guardrails-ai) (2024.12.14)\n",
      "Requirement already satisfied: markdown-it-py>=2.2.0 in /home/levi/.local/lib/python3.10/site-packages (from rich<14.0.0,>=13.6.0->guardrails-ai) (3.0.0)\n",
      "Requirement already satisfied: pygments<3.0.0,>=2.13.0 in /home/levi/.local/lib/python3.10/site-packages (from rich<14.0.0,>=13.6.0->guardrails-ai) (2.18.0)\n",
      "Requirement already satisfied: regex>=2022.1.18 in /home/levi/.local/lib/python3.10/site-packages (from tiktoken>=0.5.1->guardrails-ai) (2024.7.24)\n",
      "Requirement already satisfied: shellingham>=1.3.0 in /home/levi/.local/lib/python3.10/site-packages (from typer<0.13,>=0.9.0->typer[all]<0.13,>=0.9.0->guardrails-ai) (1.5.4)\n",
      "\u001b[33mWARNING: typer 0.12.5 does not provide the extra 'all'\u001b[0m\u001b[33m\n",
      "\u001b[0mRequirement already satisfied: exceptiongroup>=1.0.2 in /home/levi/.local/lib/python3.10/site-packages (from anyio<5,>=3.5.0->openai<2.0.0,>=1.30.1->guardrails-ai) (1.2.2)\n",
      "Requirement already satisfied: wrapt<2,>=1.10 in /home/levi/.local/lib/python3.10/site-packages (from deprecated>=1.2.6->opentelemetry-exporter-otlp-proto-grpc<2.0.0,>=1.24.0->guardrails-ai) (1.16.0)\n",
      "Requirement already satisfied: httpcore==1.* in /home/levi/.local/lib/python3.10/site-packages (from httpx<0.28.0,>=0.23.0->litellm<2.0.0,>=1.37.14->guardrails-ai) (1.0.5)\n",
      "Requirement already satisfied: h11<0.15,>=0.13 in /home/levi/.local/lib/python3.10/site-packages (from httpcore==1.*->httpx<0.28.0,>=0.23.0->litellm<2.0.0,>=1.37.14->guardrails-ai) (0.14.0)\n",
      "Requirement already satisfied: zipp>=0.5 in /home/levi/.local/lib/python3.10/site-packages (from importlib-metadata>=6.8.0->litellm<2.0.0,>=1.37.14->guardrails-ai) (3.21.0)\n",
      "Requirement already satisfied: MarkupSafe>=2.0 in /home/levi/.local/lib/python3.10/site-packages (from jinja2<4.0.0,>=3.1.2->litellm<2.0.0,>=1.37.14->guardrails-ai) (2.1.5)\n",
      "Requirement already satisfied: orjson<4.0.0,>=3.9.14 in /home/levi/.local/lib/python3.10/site-packages (from langsmith<0.3,>=0.1.125->langchain-core<0.4,>=0.1->guardrails-ai) (3.10.7)\n",
      "Requirement already satisfied: mdurl~=0.1 in /home/levi/.local/lib/python3.10/site-packages (from markdown-it-py>=2.2.0->rich<14.0.0,>=13.6.0->guardrails-ai) (0.1.2)\n",
      "Requirement already satisfied: aiohappyeyeballs>=2.3.0 in /home/levi/.local/lib/python3.10/site-packages (from aiohttp->litellm<2.0.0,>=1.37.14->guardrails-ai) (2.4.0)\n",
      "Requirement already satisfied: aiosignal>=1.1.2 in /home/levi/.local/lib/python3.10/site-packages (from aiohttp->litellm<2.0.0,>=1.37.14->guardrails-ai) (1.3.1)\n",
      "Requirement already satisfied: frozenlist>=1.1.1 in /home/levi/.local/lib/python3.10/site-packages (from aiohttp->litellm<2.0.0,>=1.37.14->guardrails-ai) (1.4.1)\n",
      "Requirement already satisfied: multidict<7.0,>=4.5 in /home/levi/.local/lib/python3.10/site-packages (from aiohttp->litellm<2.0.0,>=1.37.14->guardrails-ai) (6.1.0)\n",
      "Requirement already satisfied: yarl<2.0,>=1.0 in /home/levi/.local/lib/python3.10/site-packages (from aiohttp->litellm<2.0.0,>=1.37.14->guardrails-ai) (1.11.1)\n",
      "Requirement already satisfied: async-timeout<5.0,>=4.0 in /home/levi/.local/lib/python3.10/site-packages (from aiohttp->litellm<2.0.0,>=1.37.14->guardrails-ai) (4.0.3)\n",
      "Requirement already satisfied: arrow>=0.15.0 in /home/levi/.local/lib/python3.10/site-packages (from isoduration->jsonschema[format]<5.0.0,>=4.22.0->guardrails-ai) (1.3.0)\n",
      "Requirement already satisfied: huggingface-hub<1.0,>=0.16.4 in /home/levi/.local/lib/python3.10/site-packages (from tokenizers->litellm<2.0.0,>=1.37.14->guardrails-ai) (0.25.0)\n",
      "Requirement already satisfied: types-python-dateutil>=2.8.10 in /home/levi/.local/lib/python3.10/site-packages (from arrow>=0.15.0->isoduration->jsonschema[format]<5.0.0,>=4.22.0->guardrails-ai) (2.9.0.20240316)\n",
      "Requirement already satisfied: filelock in /home/levi/.local/lib/python3.10/site-packages (from huggingface-hub<1.0,>=0.16.4->tokenizers->litellm<2.0.0,>=1.37.14->guardrails-ai) (3.16.1)\n",
      "Requirement already satisfied: fsspec>=2023.5.0 in /home/levi/.local/lib/python3.10/site-packages (from huggingface-hub<1.0,>=0.16.4->tokenizers->litellm<2.0.0,>=1.37.14->guardrails-ai) (2024.9.0)\n"
     ]
    }
   ],
   "source": [
    "!python3.10 -m pip install guardrails-ai"
   ]
  },
  {
   "cell_type": "code",
   "execution_count": 2,
   "id": "9aeea11b-9bca-4c0f-a78c-426cec19fff8",
   "metadata": {},
   "outputs": [
    {
     "name": "stdout",
     "output_type": "stream",
     "text": [
      "Defaulting to user installation because normal site-packages is not writeable\n",
      "Requirement already satisfied: urllib3 in /home/levi/.local/lib/python3.10/site-packages (2.0.7)\n"
     ]
    }
   ],
   "source": [
    "!python3.10 -m pip install urllib3"
   ]
  },
  {
   "cell_type": "code",
   "execution_count": 3,
   "id": "4a1c1971-914c-401c-b4eb-5c85f2c92a13",
   "metadata": {},
   "outputs": [
    {
     "name": "stdout",
     "output_type": "stream",
     "text": [
      "Installing hub:\u001b[35m/\u001b[0m\u001b[35m/guardrails/\u001b[0m\u001b[95mdetect_pii...\u001b[0m\n",
      "\u001b[2K\u001b[32m[=   ]\u001b[0m Fetching manifestst\n",
      "\u001b[2K\u001b[32m[==  ]\u001b[0m Downloading dependenciespendencies\n",
      "\u001b[2K\u001b[32m[=   ]\u001b[0m Running post-install setuptall setup\n",
      "\u001b[1A\u001b[2K✅Successfully installed guardrails/detect_pii version \u001b[1;36m0.0\u001b[0m.\u001b[1;36m5\u001b[0m!\n",
      "\n",
      "\n",
      "\u001b[1mImport validator:\u001b[0m\n",
      "from guardrails.hub import DetectPII\n",
      "\n",
      "\u001b[1mGet more info:\u001b[0m\n",
      "\u001b[4;94mhttps://hub.guardrailsai.com/validator/guardrails/detect_pii\u001b[0m\n",
      "\n"
     ]
    }
   ],
   "source": [
    "!guardrails hub install hub://guardrails/detect_pii"
   ]
  },
  {
   "cell_type": "code",
   "execution_count": 4,
   "id": "23baf400",
   "metadata": {},
   "outputs": [
    {
     "name": "stdout",
     "output_type": "stream",
     "text": [
      "Installing hub:\u001b[35m/\u001b[0m\u001b[35m/guardrails/\u001b[0m\u001b[95mteste...\u001b[0m\n",
      "ERROR:guardrails-cli:404\n",
      "ERROR:guardrails-cli:Not Found\n",
      "ERROR:guardrails-cli:Failed to install hub://guardrails/teste\n"
     ]
    }
   ],
   "source": [
    "!guardrails hub install hub://guardrails/teste --quiet"
   ]
  },
  {
   "cell_type": "code",
   "execution_count": 5,
   "id": "dd1c6e5a-b167-43c1-bd27-bc5eb0764bdf",
   "metadata": {},
   "outputs": [],
   "source": [
    "from guardrails.validators import (register_validator, Validator, FailResult, ValidationResult, PassResult)\n",
    "from guardrails import Guard\n",
    "from guardrails.hub import DetectPII\n",
    "from typing import Any, Dict, Optional, Callable, List\n",
    "\n",
    "from presidio_analyzer import AnalyzerEngine, PatternRecognizer, RecognizerResult, Pattern\n",
    "import re\n",
    "\n",
    "from transformers import BertTokenizer, BertModel\n",
    "import torch\n",
    "import os\n",
    "import numpy as np\n",
    "import datetime as dt"
   ]
  },
  {
   "cell_type": "code",
   "execution_count": 6,
   "id": "e59bd18b",
   "metadata": {},
   "outputs": [],
   "source": [
    "if os.path.isdir(\"./bert_tokenizer\") and os.path.isdir(\"./bert_model\"):\n",
    "    tokenizer = BertTokenizer.from_pretrained(\"./bert_tokenizer\")\n",
    "    model = BertModel.from_pretrained(\"./bert_model\")\n",
    "else:\n",
    "    tokenizer = BertTokenizer.from_pretrained(\"bert-base-uncased\")\n",
    "    model = BertModel.from_pretrained(\"bert-base-uncased\")\n",
    "    \n",
    "    tokenizer.save_pretrained(\"./bert_tokenizer\")\n",
    "    model.save_pretrained(\"./bert_model\")"
   ]
  },
  {
   "cell_type": "code",
   "execution_count": 7,
   "id": "d60d85db",
   "metadata": {},
   "outputs": [
    {
     "name": "stderr",
     "output_type": "stream",
     "text": [
      "/home/levi/.local/lib/python3.10/site-packages/guardrails/validator_service/__init__.py:85: UserWarning: Could not obtain an event loop. Falling back to synchronous validation.\n",
      "  warnings.warn(\n"
     ]
    },
    {
     "name": "stdout",
     "output_type": "stream",
     "text": [
      "Agente Inteligente: Similaridade alta (igual ou acima de 0.5)\n",
      "Passou no teste de similaridade cosseno!\n"
     ]
    }
   ],
   "source": [
    "\"\"\"\n",
    "Retorna os embeddings do texto passado como parâmetro da função.\n",
    "\n",
    "returns: Embeddings das palavras.\n",
    "\"\"\"\n",
    "def generate_embeddings(text: str) -> List[List]:\n",
    "    inputs = tokenizer(text, return_tensors=\"pt\", truncation=True, padding=True, max_length=512)\n",
    "    \n",
    "    with torch.no_grad():\n",
    "        outputs = model(**inputs)\n",
    "        \n",
    "    embeddings = outputs.last_hidden_state\n",
    "    sentence_embedding = embeddings.mean(dim=1)\n",
    "    \n",
    "    return sentence_embedding\n",
    "\n",
    "\n",
    "\"\"\"\n",
    "Calcula a similaridae cosseno entre dois textos.\n",
    "Gera-se os embeddings para cada texto e em seguida, fazemos a similarida usando os embeddings. \n",
    "\n",
    "returns: Grau de similaridade em um intervalo fechado entre 0 e 1.\n",
    "\"\"\"\n",
    "def cosine_similarity(text1: str, text2: str) -> float:\n",
    "    emb_text1 = generate_embeddings(text1)\n",
    "    emb_text2 = generate_embeddings(text2)\n",
    "    \n",
    "    emb_text1 = emb_text1.cpu().numpy()\n",
    "    emb_text2 = emb_text2.cpu().numpy()\n",
    "    \n",
    "    dot_product = np.dot(emb_text1, emb_text2.T)\n",
    "    text1Norm = np.linalg.norm(emb_text1)\n",
    "    text2Norm = np.linalg.norm(emb_text2)\n",
    "    \n",
    "    return dot_product / (text1Norm * text2Norm)\n",
    "\n",
    "\n",
    "\"\"\"\n",
    "Divide o texto em alguns pedaços de frases.\n",
    "\n",
    "returns: Lista de frases.\n",
    "\"\"\"\n",
    "def split_text(text, max_length: int = 10) -> List:\n",
    "    tokens = tokenizer.tokenize(text)\n",
    "    chunks = [tokenizer.convert_tokens_to_string(tokens[i:i + max_length]) for i in range(0, len(tokens), max_length)]\n",
    "    \n",
    "    return chunks\n",
    "\n",
    "\n",
    "\"\"\"\n",
    "Calcula a similaridade entre dois textos.\n",
    "\n",
    "returns: Similaridade cosseno.\n",
    "\"\"\"\n",
    "def similarity_between_texts(text1, text2) -> float:\n",
    "    split_text1 = split_text(text1)\n",
    "    split_text2 = split_text(text2)\n",
    "    \n",
    "    similarities = []\n",
    "    \n",
    "    if len(split_text1) == 0 or len(split_text2) == 0:\n",
    "        return 0\n",
    "        \n",
    "    for text1 in split_text1:\n",
    "        for text2 in split_text2:\n",
    "            similarities.append(cosine_similarity(text1, text2)[0][0])\n",
    "\n",
    "    return np.mean(similarities)\n",
    "\n",
    "\n",
    "@register_validator(name=\"guardrails/teste\", data_type=\"string\")\n",
    "class ValidadorDeSimilaridade(Validator):\n",
    "    def __init__(self, texto1: str, texto2: str, match_type: Optional[str] = None, on_fail: Optional[Callable] = None):        \n",
    "        super().__init__(on_fail=on_fail, match_type=match_type)\n",
    "        \n",
    "        self.texto1 = texto1\n",
    "        self.texto2 = texto2\n",
    "        \n",
    "    def validate(self, value: Any, metadata: Dict = {}) -> ValidationResult:\n",
    "        similarity = similarity_between_texts(self.texto1, self.texto2)\n",
    "        \n",
    "        if similarity < 0.5:\n",
    "            print(f\"{value}: Similaridade baixa (menor que 0.5)\")\n",
    "            return FailResult(error_message=\"Erro\")\n",
    "        \n",
    "        print(f\"{value}: Similaridade alta (igual ou acima de 0.5)\")\n",
    "        return PassResult()\n",
    "\n",
    "guard = Guard().use(\n",
    "    ValidadorDeSimilaridade(texto1=\"texto1\", texto2=\"texjjjjje  dfqweffqe wqto2\")\n",
    ")\n",
    "\n",
    "try:\n",
    "    guard.parse(\"Agente Inteligente\").model_validate\n",
    "    print(\"Passou no teste de similaridade cosseno!\")\n",
    "except Exception as e:\n",
    "    print(\"Ocorreu um erro: \", e)\n",
    "        "
   ]
  },
  {
   "cell_type": "code",
   "execution_count": 8,
   "id": "0908f440",
   "metadata": {},
   "outputs": [
    {
     "name": "stdout",
     "output_type": "stream",
     "text": [
      "Installing hub:\u001b[35m/\u001b[0m\u001b[35m/guardrails/\u001b[0m\u001b[95mpii...\u001b[0m\n",
      "ERROR:guardrails-cli:404\n",
      "ERROR:guardrails-cli:Not Found\n",
      "ERROR:guardrails-cli:Failed to install hub://guardrails/pii\n"
     ]
    }
   ],
   "source": [
    "!guardrails hub install hub://guardrails/pii --quiet"
   ]
  },
  {
   "cell_type": "code",
   "execution_count": 12,
   "id": "07ba3384",
   "metadata": {},
   "outputs": [
    {
     "name": "stderr",
     "output_type": "stream",
     "text": [
      "WARNING:presidio-analyzer:Recognizer not added to registry because language is not supported by registry - CreditCardRecognizer supported languages: es, registry supported languages: en\n",
      "WARNING:presidio-analyzer:Recognizer not added to registry because language is not supported by registry - CreditCardRecognizer supported languages: it, registry supported languages: en\n",
      "WARNING:presidio-analyzer:Recognizer not added to registry because language is not supported by registry - CreditCardRecognizer supported languages: pl, registry supported languages: en\n",
      "WARNING:presidio-analyzer:Recognizer not added to registry because language is not supported by registry - EsNifRecognizer supported languages: es, registry supported languages: en\n",
      "WARNING:presidio-analyzer:Recognizer not added to registry because language is not supported by registry - EsNieRecognizer supported languages: es, registry supported languages: en\n",
      "WARNING:presidio-analyzer:Recognizer not added to registry because language is not supported by registry - ItDriverLicenseRecognizer supported languages: it, registry supported languages: en\n",
      "WARNING:presidio-analyzer:Recognizer not added to registry because language is not supported by registry - ItFiscalCodeRecognizer supported languages: it, registry supported languages: en\n",
      "WARNING:presidio-analyzer:Recognizer not added to registry because language is not supported by registry - ItVatCodeRecognizer supported languages: it, registry supported languages: en\n",
      "WARNING:presidio-analyzer:Recognizer not added to registry because language is not supported by registry - ItIdentityCardRecognizer supported languages: it, registry supported languages: en\n",
      "WARNING:presidio-analyzer:Recognizer not added to registry because language is not supported by registry - ItPassportRecognizer supported languages: it, registry supported languages: en\n",
      "WARNING:presidio-analyzer:Recognizer not added to registry because language is not supported by registry - PlPeselRecognizer supported languages: pl, registry supported languages: en\n"
     ]
    },
    {
     "name": "stdout",
     "output_type": "stream",
     "text": [
      "Validation failed for field with errors: A minha matricula é o seguinte: <MATRICULA>, busque informaões sobre ela\n"
     ]
    }
   ],
   "source": [
    "@register_validator(name=\"guardrails/enrollment\", data_type=\"string\")\n",
    "class PIIValidator(Validator):\n",
    "    def __init__(self, on_match: Optional[str] = None, on_fail: Optional[Callable] = None):\n",
    "        super().__init__(on_match=on_match, on_fail=on_fail)\n",
    "        \n",
    "    def validate(self, value: str, metadata: Dict = {}) -> ValidationResult:\n",
    "        year = str(dt.datetime.now().year)[2:]\n",
    "        \n",
    "        enrollment = r\"\\b\\d{1}[1-\" + year[0] + r\"]\" + r\"[0-\" + year[1] + r\"]\" + r\"[12]\\d{5}\\b\"\n",
    "        enrollment_pattern = Pattern(name=\"Enrollment_Pattern\", regex=enrollment, score=0.6)\n",
    "        \n",
    "        enrollment_recognizer = PatternRecognizer(name=\"MATRICULA\", patterns=[enrollment_pattern], supported_entity=\"Enrollment_Pattern\", supported_language=\"en\")\n",
    "        \n",
    "        analyzer = AnalyzerEngine()\n",
    "        analyzer.registry.add_recognizer(enrollment_recognizer)\n",
    "        \n",
    "        results = analyzer.analyze(text=value, entities=[\"Enrollment_Pattern\"], language=\"en\")\n",
    "        \n",
    "        if results:\n",
    "            for result in results:\n",
    "                start, end = result.start, result.end\n",
    "                value = value[:start] + \"<MATRICULA>\" + value[end:]\n",
    "            return FailResult(error_message=value)\n",
    "        \n",
    "        return PassResult()\n",
    "\n",
    "\n",
    "\n",
    "guardas_eureca = Guard().use(PIIValidator)\n",
    "\n",
    "try:\n",
    "    guardas_eureca.parse(\"A minha matricula é o seguinte: 221199999, busque informaões sobre ela\").model_validate\n",
    "except Exception as e:\n",
    "    print(e)"
   ]
  },
  {
   "cell_type": "code",
   "execution_count": 10,
   "id": "3185903b",
   "metadata": {},
   "outputs": [
    {
     "name": "stderr",
     "output_type": "stream",
     "text": [
      "WARNING:presidio-analyzer:Recognizer not added to registry because language is not supported by registry - CreditCardRecognizer supported languages: es, registry supported languages: en\n",
      "WARNING:presidio-analyzer:Recognizer not added to registry because language is not supported by registry - CreditCardRecognizer supported languages: it, registry supported languages: en\n",
      "WARNING:presidio-analyzer:Recognizer not added to registry because language is not supported by registry - CreditCardRecognizer supported languages: pl, registry supported languages: en\n",
      "WARNING:presidio-analyzer:Recognizer not added to registry because language is not supported by registry - EsNifRecognizer supported languages: es, registry supported languages: en\n",
      "WARNING:presidio-analyzer:Recognizer not added to registry because language is not supported by registry - EsNieRecognizer supported languages: es, registry supported languages: en\n",
      "WARNING:presidio-analyzer:Recognizer not added to registry because language is not supported by registry - ItDriverLicenseRecognizer supported languages: it, registry supported languages: en\n",
      "WARNING:presidio-analyzer:Recognizer not added to registry because language is not supported by registry - ItFiscalCodeRecognizer supported languages: it, registry supported languages: en\n",
      "WARNING:presidio-analyzer:Recognizer not added to registry because language is not supported by registry - ItVatCodeRecognizer supported languages: it, registry supported languages: en\n",
      "WARNING:presidio-analyzer:Recognizer not added to registry because language is not supported by registry - ItIdentityCardRecognizer supported languages: it, registry supported languages: en\n",
      "WARNING:presidio-analyzer:Recognizer not added to registry because language is not supported by registry - ItPassportRecognizer supported languages: it, registry supported languages: en\n",
      "WARNING:presidio-analyzer:Recognizer not added to registry because language is not supported by registry - PlPeselRecognizer supported languages: pl, registry supported languages: en\n"
     ]
    },
    {
     "name": "stdout",
     "output_type": "stream",
     "text": [
      "Validation failed for field with errors: O meu CPF é o seguinte: <CPF>, busque informaões sobre ele\n"
     ]
    }
   ],
   "source": [
    "\n",
    "@register_validator(name=\"guardrails/cpf\", data_type=\"string\")\n",
    "class PIIValidatorCPF(Validator):\n",
    "    def __init__(self, on_match: Optional[str] = None, on_fail: Optional[Callable] = None):\n",
    "        super().__init__(on_match=on_match, on_fail=on_fail)\n",
    "        \n",
    "    def validate(self, value: str, metadata: Dict = {}) -> ValidationResult:\n",
    "        year = str(dt.datetime.now().year)[2:]\n",
    "        \n",
    "        cpf_regex = r\"\\b\\d{3}\\.*\\d{3}\\.*\\d{3}-*\\d{2}\\b\"\n",
    "        cpf_pattern = Pattern(name=\"CPF_Pattern\", regex=cpf_regex, score=0.6)\n",
    "        \n",
    "        cpf_recognizer = PatternRecognizer(name=\"MATRICULA\", patterns=[cpf_pattern], supported_entity=\"CPF_Pattern\", supported_language=\"en\")\n",
    "        \n",
    "        analyzer = AnalyzerEngine()\n",
    "        analyzer.registry.add_recognizer(cpf_recognizer)\n",
    "        \n",
    "        results = analyzer.analyze(text=value, entities=[\"CPF_Pattern\"], language=\"en\")\n",
    "        \n",
    "        if results:\n",
    "            for result in results:\n",
    "                start, end = result.start, result.end\n",
    "                value = value[:start] + \"<CPF>\" + value[end:]\n",
    "            return FailResult(error_message=value)\n",
    "        \n",
    "        return PassResult()\n",
    "\n",
    "\n",
    "\n",
    "guardas_eureca = Guard().use(PIIValidatorCPF)\n",
    "\n",
    "try:\n",
    "    result = guardas_eureca.parse(\"O meu CPF é o seguinte: 99999999999, busque informaões sobre ele\").model_validate\n",
    "except Exception as e:\n",
    "    print(e)"
   ]
  },
  {
   "cell_type": "code",
   "execution_count": 11,
   "id": "cadd8f4c",
   "metadata": {},
   "outputs": [
    {
     "name": "stdout",
     "output_type": "stream",
     "text": [
      "\n",
      "Meus emails são <EMAIL_ADDRESS> ou <EMAIL_ADDRESS> ou <EMAIL_ADDRESS> e <EMAIL_ADDRESS>; \n",
      "e os meus números de telefones são esses <PHONE_NUMBER> ou <PHONE_NUMBER> ou <PHONE_NUMBER> e <PHONE_NUMBER>, \n",
      "busque no <URL> ou <URL>. \n",
      "\n"
     ]
    }
   ],
   "source": [
    "guarda_email = Guard().use(DetectPII(pii_entities=\"pii\", on_fail=\"fix\"))\n",
    "\n",
    "text = \"\"\"\n",
    "Meus emails são demo@lol.com ou dominio@gmail.com ou dominio@hotmail.com e dominio@hotmail.com.br; \n",
    "e os meus números de telefones são esses (99) 999999999 ou (99)999999999 ou 99999999999 e 99999999999, \n",
    "busque no google.com.br ou uol.com. \n",
    "\"\"\"\n",
    "output = guarda_email.parse(\n",
    "    llm_output=text,\n",
    "    metadata={\"pii_entities\": [\"EMAIL_ADDRESS\", \"URL\", \"PHONE_NUMBER\"]},\n",
    ")\n",
    "\n",
    "print(output.validated_output)"
   ]
  }
 ],
 "metadata": {
  "kernelspec": {
   "display_name": "Python 3",
   "language": "python",
   "name": "python3"
  },
  "language_info": {
   "codemirror_mode": {
    "name": "ipython",
    "version": 3
   },
   "file_extension": ".py",
   "mimetype": "text/x-python",
   "name": "python",
   "nbconvert_exporter": "python",
   "pygments_lexer": "ipython3",
   "version": "3.10.12"
  }
 },
 "nbformat": 4,
 "nbformat_minor": 5
}
